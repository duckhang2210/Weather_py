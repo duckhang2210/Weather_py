{
 "cells": [
  {
   "cell_type": "markdown",
   "metadata": {},
   "source": [
    "## Deliverable 2. Create a Customer Travel Destinations Map."
   ]
  },
  {
   "cell_type": "code",
   "execution_count": 132,
   "metadata": {},
   "outputs": [],
   "source": [
    "# Dependencies and Setup\n",
    "import pandas as pd\n",
    "import requests\n",
    "import gmaps\n",
    "\n",
    "# Import API key\n",
    "from config import g_key\n",
    "\n",
    "# Configure gmaps API key\n",
    "gmaps.configure(api_key= g_key)"
   ]
  },
  {
   "cell_type": "code",
   "execution_count": 133,
   "metadata": {},
   "outputs": [
    {
     "output_type": "execute_result",
     "data": {
      "text/plain": [
       "   City_ID          City Country      Lat       Lng  Max Temp  Humidity  \\\n",
       "0        0       Mataura      NZ -46.1927  168.8643     57.00        86   \n",
       "1        1       Rikitea      PF -23.1203 -134.9692     77.74        75   \n",
       "2        2       College      US  64.8569 -147.8028     55.40        30   \n",
       "3        3  Krasnoselkup      RU  65.7000   82.4667    -10.71        92   \n",
       "4        4   East London      ZA -33.0153   27.9116     74.70        31   \n",
       "\n",
       "   Cloudiness  Wind Speed Current Description  \n",
       "0          94        4.00     overcast clouds  \n",
       "1           8        9.71           clear sky  \n",
       "2          75        6.91       broken clouds  \n",
       "3          16       16.91          few clouds  \n",
       "4           0        6.11           clear sky  "
      ],
      "text/html": "<div>\n<style scoped>\n    .dataframe tbody tr th:only-of-type {\n        vertical-align: middle;\n    }\n\n    .dataframe tbody tr th {\n        vertical-align: top;\n    }\n\n    .dataframe thead th {\n        text-align: right;\n    }\n</style>\n<table border=\"1\" class=\"dataframe\">\n  <thead>\n    <tr style=\"text-align: right;\">\n      <th></th>\n      <th>City_ID</th>\n      <th>City</th>\n      <th>Country</th>\n      <th>Lat</th>\n      <th>Lng</th>\n      <th>Max Temp</th>\n      <th>Humidity</th>\n      <th>Cloudiness</th>\n      <th>Wind Speed</th>\n      <th>Current Description</th>\n    </tr>\n  </thead>\n  <tbody>\n    <tr>\n      <th>0</th>\n      <td>0</td>\n      <td>Mataura</td>\n      <td>NZ</td>\n      <td>-46.1927</td>\n      <td>168.8643</td>\n      <td>57.00</td>\n      <td>86</td>\n      <td>94</td>\n      <td>4.00</td>\n      <td>overcast clouds</td>\n    </tr>\n    <tr>\n      <th>1</th>\n      <td>1</td>\n      <td>Rikitea</td>\n      <td>PF</td>\n      <td>-23.1203</td>\n      <td>-134.9692</td>\n      <td>77.74</td>\n      <td>75</td>\n      <td>8</td>\n      <td>9.71</td>\n      <td>clear sky</td>\n    </tr>\n    <tr>\n      <th>2</th>\n      <td>2</td>\n      <td>College</td>\n      <td>US</td>\n      <td>64.8569</td>\n      <td>-147.8028</td>\n      <td>55.40</td>\n      <td>30</td>\n      <td>75</td>\n      <td>6.91</td>\n      <td>broken clouds</td>\n    </tr>\n    <tr>\n      <th>3</th>\n      <td>3</td>\n      <td>Krasnoselkup</td>\n      <td>RU</td>\n      <td>65.7000</td>\n      <td>82.4667</td>\n      <td>-10.71</td>\n      <td>92</td>\n      <td>16</td>\n      <td>16.91</td>\n      <td>few clouds</td>\n    </tr>\n    <tr>\n      <th>4</th>\n      <td>4</td>\n      <td>East London</td>\n      <td>ZA</td>\n      <td>-33.0153</td>\n      <td>27.9116</td>\n      <td>74.70</td>\n      <td>31</td>\n      <td>0</td>\n      <td>6.11</td>\n      <td>clear sky</td>\n    </tr>\n  </tbody>\n</table>\n</div>"
     },
     "metadata": {},
     "execution_count": 133
    }
   ],
   "source": [
    "# 1. Import the WeatherPy_database.csv file. \n",
    "city_data_df = pd.read_csv(\"../Weather_Database/WeatherPy_database.csv\")\n",
    "city_data_df.head()"
   ]
  },
  {
   "cell_type": "code",
   "execution_count": 134,
   "metadata": {},
   "outputs": [],
   "source": [
    "# 2. Prompt the user to enter minimum and maximum temperature criteria \n",
    "min_temp = float(input(\"What is the minimum temperature you would like for your trip? \"))\n",
    "max_temp = float(input(\"What is the maximum temperature you would like for your trip? \"))"
   ]
  },
  {
   "cell_type": "code",
   "execution_count": 135,
   "metadata": {},
   "outputs": [
    {
     "output_type": "execute_result",
     "data": {
      "text/plain": [
       "    City_ID          City Country      Lat       Lng  Max Temp  Humidity  \\\n",
       "0         0       Mataura      NZ -46.1927  168.8643     57.00        86   \n",
       "1         1       Rikitea      PF -23.1203 -134.9692     77.74        75   \n",
       "2         2       College      US  64.8569 -147.8028     55.40        30   \n",
       "4         4   East London      ZA -33.0153   27.9116     74.70        31   \n",
       "6         6  Punta Arenas      CL -53.1500  -70.9167     51.80        82   \n",
       "8         8         Bluff      NZ -46.6000  168.3333     57.00        86   \n",
       "9         9        Padang      ID  -0.9492  100.3543     76.10        87   \n",
       "11       11       Ushuaia      AR -54.8000  -68.3000     55.40        58   \n",
       "12       12        Hobart      AU -42.8794  147.3294     55.99        67   \n",
       "13       13     Cape Town      ZA -33.9258   18.4232     68.00        94   \n",
       "\n",
       "    Cloudiness  Wind Speed Current Description  \n",
       "0           94        4.00     overcast clouds  \n",
       "1            8        9.71           clear sky  \n",
       "2           75        6.91       broken clouds  \n",
       "4            0        6.11           clear sky  \n",
       "6           99       16.11          light rain  \n",
       "8           77        4.00       broken clouds  \n",
       "9           27        2.68    scattered clouds  \n",
       "11          20        4.61          few clouds  \n",
       "12          75        8.05       broken clouds  \n",
       "13           0       10.36           clear sky  "
      ],
      "text/html": "<div>\n<style scoped>\n    .dataframe tbody tr th:only-of-type {\n        vertical-align: middle;\n    }\n\n    .dataframe tbody tr th {\n        vertical-align: top;\n    }\n\n    .dataframe thead th {\n        text-align: right;\n    }\n</style>\n<table border=\"1\" class=\"dataframe\">\n  <thead>\n    <tr style=\"text-align: right;\">\n      <th></th>\n      <th>City_ID</th>\n      <th>City</th>\n      <th>Country</th>\n      <th>Lat</th>\n      <th>Lng</th>\n      <th>Max Temp</th>\n      <th>Humidity</th>\n      <th>Cloudiness</th>\n      <th>Wind Speed</th>\n      <th>Current Description</th>\n    </tr>\n  </thead>\n  <tbody>\n    <tr>\n      <th>0</th>\n      <td>0</td>\n      <td>Mataura</td>\n      <td>NZ</td>\n      <td>-46.1927</td>\n      <td>168.8643</td>\n      <td>57.00</td>\n      <td>86</td>\n      <td>94</td>\n      <td>4.00</td>\n      <td>overcast clouds</td>\n    </tr>\n    <tr>\n      <th>1</th>\n      <td>1</td>\n      <td>Rikitea</td>\n      <td>PF</td>\n      <td>-23.1203</td>\n      <td>-134.9692</td>\n      <td>77.74</td>\n      <td>75</td>\n      <td>8</td>\n      <td>9.71</td>\n      <td>clear sky</td>\n    </tr>\n    <tr>\n      <th>2</th>\n      <td>2</td>\n      <td>College</td>\n      <td>US</td>\n      <td>64.8569</td>\n      <td>-147.8028</td>\n      <td>55.40</td>\n      <td>30</td>\n      <td>75</td>\n      <td>6.91</td>\n      <td>broken clouds</td>\n    </tr>\n    <tr>\n      <th>4</th>\n      <td>4</td>\n      <td>East London</td>\n      <td>ZA</td>\n      <td>-33.0153</td>\n      <td>27.9116</td>\n      <td>74.70</td>\n      <td>31</td>\n      <td>0</td>\n      <td>6.11</td>\n      <td>clear sky</td>\n    </tr>\n    <tr>\n      <th>6</th>\n      <td>6</td>\n      <td>Punta Arenas</td>\n      <td>CL</td>\n      <td>-53.1500</td>\n      <td>-70.9167</td>\n      <td>51.80</td>\n      <td>82</td>\n      <td>99</td>\n      <td>16.11</td>\n      <td>light rain</td>\n    </tr>\n    <tr>\n      <th>8</th>\n      <td>8</td>\n      <td>Bluff</td>\n      <td>NZ</td>\n      <td>-46.6000</td>\n      <td>168.3333</td>\n      <td>57.00</td>\n      <td>86</td>\n      <td>77</td>\n      <td>4.00</td>\n      <td>broken clouds</td>\n    </tr>\n    <tr>\n      <th>9</th>\n      <td>9</td>\n      <td>Padang</td>\n      <td>ID</td>\n      <td>-0.9492</td>\n      <td>100.3543</td>\n      <td>76.10</td>\n      <td>87</td>\n      <td>27</td>\n      <td>2.68</td>\n      <td>scattered clouds</td>\n    </tr>\n    <tr>\n      <th>11</th>\n      <td>11</td>\n      <td>Ushuaia</td>\n      <td>AR</td>\n      <td>-54.8000</td>\n      <td>-68.3000</td>\n      <td>55.40</td>\n      <td>58</td>\n      <td>20</td>\n      <td>4.61</td>\n      <td>few clouds</td>\n    </tr>\n    <tr>\n      <th>12</th>\n      <td>12</td>\n      <td>Hobart</td>\n      <td>AU</td>\n      <td>-42.8794</td>\n      <td>147.3294</td>\n      <td>55.99</td>\n      <td>67</td>\n      <td>75</td>\n      <td>8.05</td>\n      <td>broken clouds</td>\n    </tr>\n    <tr>\n      <th>13</th>\n      <td>13</td>\n      <td>Cape Town</td>\n      <td>ZA</td>\n      <td>-33.9258</td>\n      <td>18.4232</td>\n      <td>68.00</td>\n      <td>94</td>\n      <td>0</td>\n      <td>10.36</td>\n      <td>clear sky</td>\n    </tr>\n  </tbody>\n</table>\n</div>"
     },
     "metadata": {},
     "execution_count": 135
    }
   ],
   "source": [
    "# 3. Filter the city_data_df DataFrame using the input statements to create a new DataFrame using the loc method.\n",
    "preferred_cities_df = city_data_df.loc[(city_data_df[\"Max Temp\"] <= max_temp) & \\\n",
    "                                       (city_data_df[\"Max Temp\"] >= min_temp)]\n",
    "preferred_cities_df.head(10)"
   ]
  },
  {
   "cell_type": "code",
   "execution_count": 136,
   "metadata": {},
   "outputs": [
    {
     "output_type": "execute_result",
     "data": {
      "text/plain": [
       "City_ID                0\n",
       "City                   0\n",
       "Country                5\n",
       "Lat                    0\n",
       "Lng                    0\n",
       "Max Temp               0\n",
       "Humidity               0\n",
       "Cloudiness             0\n",
       "Wind Speed             0\n",
       "Current Description    0\n",
       "dtype: int64"
      ]
     },
     "metadata": {},
     "execution_count": 136
    }
   ],
   "source": [
    "# 4a. Determine if there are any empty rows.\n",
    "preferred_cities_df.isnull().sum()"
   ]
  },
  {
   "cell_type": "code",
   "execution_count": 137,
   "metadata": {},
   "outputs": [
    {
     "output_type": "execute_result",
     "data": {
      "text/plain": [
       "City_ID                0\n",
       "City                   0\n",
       "Country                0\n",
       "Lat                    0\n",
       "Lng                    0\n",
       "Max Temp               0\n",
       "Humidity               0\n",
       "Cloudiness             0\n",
       "Wind Speed             0\n",
       "Current Description    0\n",
       "dtype: int64"
      ]
     },
     "metadata": {},
     "execution_count": 137
    }
   ],
   "source": [
    "# 4b. Drop any empty rows and create a new DataFrame that doesn’t have empty rows.\n",
    "preferred_cities_df = preferred_cities_df.dropna()\n",
    "preferred_cities_df.isnull().sum()"
   ]
  },
  {
   "cell_type": "code",
   "execution_count": 138,
   "metadata": {},
   "outputs": [
    {
     "output_type": "execute_result",
     "data": {
      "text/plain": [
       "            City Country  Max Temp Current Description      Lat       Lng  \\\n",
       "0        Mataura      NZ     57.00     overcast clouds -46.1927  168.8643   \n",
       "1        Rikitea      PF     77.74           clear sky -23.1203 -134.9692   \n",
       "2        College      US     55.40       broken clouds  64.8569 -147.8028   \n",
       "4    East London      ZA     74.70           clear sky -33.0153   27.9116   \n",
       "6   Punta Arenas      CL     51.80          light rain -53.1500  -70.9167   \n",
       "8          Bluff      NZ     57.00       broken clouds -46.6000  168.3333   \n",
       "9         Padang      ID     76.10    scattered clouds  -0.9492  100.3543   \n",
       "11       Ushuaia      AR     55.40          few clouds -54.8000  -68.3000   \n",
       "12        Hobart      AU     55.99       broken clouds -42.8794  147.3294   \n",
       "13     Cape Town      ZA     68.00           clear sky -33.9258   18.4232   \n",
       "\n",
       "   Hotel Name  \n",
       "0              \n",
       "1              \n",
       "2              \n",
       "4              \n",
       "6              \n",
       "8              \n",
       "9              \n",
       "11             \n",
       "12             \n",
       "13             "
      ],
      "text/html": "<div>\n<style scoped>\n    .dataframe tbody tr th:only-of-type {\n        vertical-align: middle;\n    }\n\n    .dataframe tbody tr th {\n        vertical-align: top;\n    }\n\n    .dataframe thead th {\n        text-align: right;\n    }\n</style>\n<table border=\"1\" class=\"dataframe\">\n  <thead>\n    <tr style=\"text-align: right;\">\n      <th></th>\n      <th>City</th>\n      <th>Country</th>\n      <th>Max Temp</th>\n      <th>Current Description</th>\n      <th>Lat</th>\n      <th>Lng</th>\n      <th>Hotel Name</th>\n    </tr>\n  </thead>\n  <tbody>\n    <tr>\n      <th>0</th>\n      <td>Mataura</td>\n      <td>NZ</td>\n      <td>57.00</td>\n      <td>overcast clouds</td>\n      <td>-46.1927</td>\n      <td>168.8643</td>\n      <td></td>\n    </tr>\n    <tr>\n      <th>1</th>\n      <td>Rikitea</td>\n      <td>PF</td>\n      <td>77.74</td>\n      <td>clear sky</td>\n      <td>-23.1203</td>\n      <td>-134.9692</td>\n      <td></td>\n    </tr>\n    <tr>\n      <th>2</th>\n      <td>College</td>\n      <td>US</td>\n      <td>55.40</td>\n      <td>broken clouds</td>\n      <td>64.8569</td>\n      <td>-147.8028</td>\n      <td></td>\n    </tr>\n    <tr>\n      <th>4</th>\n      <td>East London</td>\n      <td>ZA</td>\n      <td>74.70</td>\n      <td>clear sky</td>\n      <td>-33.0153</td>\n      <td>27.9116</td>\n      <td></td>\n    </tr>\n    <tr>\n      <th>6</th>\n      <td>Punta Arenas</td>\n      <td>CL</td>\n      <td>51.80</td>\n      <td>light rain</td>\n      <td>-53.1500</td>\n      <td>-70.9167</td>\n      <td></td>\n    </tr>\n    <tr>\n      <th>8</th>\n      <td>Bluff</td>\n      <td>NZ</td>\n      <td>57.00</td>\n      <td>broken clouds</td>\n      <td>-46.6000</td>\n      <td>168.3333</td>\n      <td></td>\n    </tr>\n    <tr>\n      <th>9</th>\n      <td>Padang</td>\n      <td>ID</td>\n      <td>76.10</td>\n      <td>scattered clouds</td>\n      <td>-0.9492</td>\n      <td>100.3543</td>\n      <td></td>\n    </tr>\n    <tr>\n      <th>11</th>\n      <td>Ushuaia</td>\n      <td>AR</td>\n      <td>55.40</td>\n      <td>few clouds</td>\n      <td>-54.8000</td>\n      <td>-68.3000</td>\n      <td></td>\n    </tr>\n    <tr>\n      <th>12</th>\n      <td>Hobart</td>\n      <td>AU</td>\n      <td>55.99</td>\n      <td>broken clouds</td>\n      <td>-42.8794</td>\n      <td>147.3294</td>\n      <td></td>\n    </tr>\n    <tr>\n      <th>13</th>\n      <td>Cape Town</td>\n      <td>ZA</td>\n      <td>68.00</td>\n      <td>clear sky</td>\n      <td>-33.9258</td>\n      <td>18.4232</td>\n      <td></td>\n    </tr>\n  </tbody>\n</table>\n</div>"
     },
     "metadata": {},
     "execution_count": 138
    }
   ],
   "source": [
    "# 5a. Create DataFrame called hotel_df to store hotel names along with city, country, max temp, and coordinates.\n",
    "hotel_df = preferred_cities_df[[\"City\", \"Country\", \"Max Temp\", \"Current Description\", \"Lat\", \"Lng\"]].copy()\n",
    "\n",
    "# 5b. Create a new column \"Hotel Name\"\n",
    "hotel_df[\"Hotel Name\"] = \"\"\n",
    "hotel_df.head(10)"
   ]
  },
  {
   "cell_type": "code",
   "execution_count": 139,
   "metadata": {},
   "outputs": [
    {
     "output_type": "stream",
     "name": "stdout",
     "text": [
      "Hotel not found... skipping.\n",
      "Hotel not found... skipping.\n",
      "Hotel not found... skipping.\n",
      "Hotel not found... skipping.\n",
      "Hotel not found... skipping.\n",
      "Hotel not found... skipping.\n",
      "Hotel not found... skipping.\n",
      "Hotel not found... skipping.\n",
      "Hotel not found... skipping.\n",
      "Hotel not found... skipping.\n",
      "Hotel not found... skipping.\n",
      "Hotel not found... skipping.\n",
      "Hotel not found... skipping.\n",
      "Hotel not found... skipping.\n",
      "Hotel not found... skipping.\n",
      "Hotel not found... skipping.\n",
      "Hotel not found... skipping.\n",
      "Hotel not found... skipping.\n",
      "Hotel not found... skipping.\n",
      "------- All Done!\n"
     ]
    }
   ],
   "source": [
    "# 6a. Set parameters to search for hotels with 5000 meters.\n",
    "params = {\n",
    "    \"radius\": 5000,\n",
    "    \"type\": \"lodging\",\n",
    "    \"key\": g_key\n",
    "}\n",
    "\n",
    "# 6b. Iterate through the hotel DataFrame.\n",
    "for index, row in hotel_df.iterrows():\n",
    "\n",
    "    # 6c. Get latitude and longitude from DataFrame\n",
    "    lat = row[\"Lat\"]\n",
    "    lng = row[\"Lng\"]\n",
    "    \n",
    "    params[\"location\"] = f\"{lat},{lng}\"\n",
    "    \n",
    "    # 6d. Set up the base URL for the Google Directions API to get JSON data.\n",
    "    base_url = \"https://maps.googleapis.com/maps/api/place/nearbysearch/json\"\n",
    "\n",
    "    # 6e. Make request and retrieve the JSON data from the search. \n",
    "    hotels = requests.get(base_url, params=params).json()\n",
    "   \n",
    "    # 6f. Get the first hotel from the results and store the name, if a hotel isn't found skip the city.\n",
    "    try:\n",
    "        hotel_df.loc[index, \"Hotel Name\"] = hotels[\"results\"][0][\"name\"]\n",
    "    \n",
    "    except:\n",
    "        print(\"Hotel not found... skipping.\")    \n",
    "\n",
    "print(\"------- All Done!\")"
   ]
  },
  {
   "cell_type": "code",
   "execution_count": 140,
   "metadata": {},
   "outputs": [
    {
     "output_type": "execute_result",
     "data": {
      "text/plain": [
       "                       City Country  Max Temp Current Description      Lat  \\\n",
       "0                   Mataura      NZ     57.00     overcast clouds -46.1927   \n",
       "1                   Rikitea      PF     77.74           clear sky -23.1203   \n",
       "2                   College      US     55.40       broken clouds  64.8569   \n",
       "4               East London      ZA     74.70           clear sky -33.0153   \n",
       "6              Punta Arenas      CL     51.80          light rain -53.1500   \n",
       "..                      ...     ...       ...                 ...      ...   \n",
       "666                 Bubaque      GW     77.49       broken clouds  11.2833   \n",
       "667  Concepcion Del Uruguay      AR     73.99     overcast clouds -32.4825   \n",
       "669                 Cotonou      BJ     75.20    scattered clouds   6.3654   \n",
       "670                  Xuddur      SO     75.83       broken clouds   4.1213   \n",
       "675                  Wanaka      NZ     52.83       moderate rain -44.7000   \n",
       "\n",
       "          Lng                           Hotel Name  \n",
       "0    168.8643                        Ellie's Villa  \n",
       "1   -134.9692                       Pension Maro'i  \n",
       "2   -147.8028              Pike's Waterfront Lodge  \n",
       "4     27.9116                              Tu Casa  \n",
       "6    -70.9167            Hotel Dreams Del Estrecho  \n",
       "..        ...                                  ...  \n",
       "666  -15.8333                   Casa Dora, Bubaque  \n",
       "667  -58.2372      Aires del Campo Cabañas y Hotel  \n",
       "669    2.4183               Novotel Cotonou Orisha  \n",
       "670   43.8894                       Banjanay Hotel  \n",
       "675  169.1500  Wanaka Homestead Lodge and Cottages  \n",
       "\n",
       "[353 rows x 7 columns]"
      ],
      "text/html": "<div>\n<style scoped>\n    .dataframe tbody tr th:only-of-type {\n        vertical-align: middle;\n    }\n\n    .dataframe tbody tr th {\n        vertical-align: top;\n    }\n\n    .dataframe thead th {\n        text-align: right;\n    }\n</style>\n<table border=\"1\" class=\"dataframe\">\n  <thead>\n    <tr style=\"text-align: right;\">\n      <th></th>\n      <th>City</th>\n      <th>Country</th>\n      <th>Max Temp</th>\n      <th>Current Description</th>\n      <th>Lat</th>\n      <th>Lng</th>\n      <th>Hotel Name</th>\n    </tr>\n  </thead>\n  <tbody>\n    <tr>\n      <th>0</th>\n      <td>Mataura</td>\n      <td>NZ</td>\n      <td>57.00</td>\n      <td>overcast clouds</td>\n      <td>-46.1927</td>\n      <td>168.8643</td>\n      <td>Ellie's Villa</td>\n    </tr>\n    <tr>\n      <th>1</th>\n      <td>Rikitea</td>\n      <td>PF</td>\n      <td>77.74</td>\n      <td>clear sky</td>\n      <td>-23.1203</td>\n      <td>-134.9692</td>\n      <td>Pension Maro'i</td>\n    </tr>\n    <tr>\n      <th>2</th>\n      <td>College</td>\n      <td>US</td>\n      <td>55.40</td>\n      <td>broken clouds</td>\n      <td>64.8569</td>\n      <td>-147.8028</td>\n      <td>Pike's Waterfront Lodge</td>\n    </tr>\n    <tr>\n      <th>4</th>\n      <td>East London</td>\n      <td>ZA</td>\n      <td>74.70</td>\n      <td>clear sky</td>\n      <td>-33.0153</td>\n      <td>27.9116</td>\n      <td>Tu Casa</td>\n    </tr>\n    <tr>\n      <th>6</th>\n      <td>Punta Arenas</td>\n      <td>CL</td>\n      <td>51.80</td>\n      <td>light rain</td>\n      <td>-53.1500</td>\n      <td>-70.9167</td>\n      <td>Hotel Dreams Del Estrecho</td>\n    </tr>\n    <tr>\n      <th>...</th>\n      <td>...</td>\n      <td>...</td>\n      <td>...</td>\n      <td>...</td>\n      <td>...</td>\n      <td>...</td>\n      <td>...</td>\n    </tr>\n    <tr>\n      <th>666</th>\n      <td>Bubaque</td>\n      <td>GW</td>\n      <td>77.49</td>\n      <td>broken clouds</td>\n      <td>11.2833</td>\n      <td>-15.8333</td>\n      <td>Casa Dora, Bubaque</td>\n    </tr>\n    <tr>\n      <th>667</th>\n      <td>Concepcion Del Uruguay</td>\n      <td>AR</td>\n      <td>73.99</td>\n      <td>overcast clouds</td>\n      <td>-32.4825</td>\n      <td>-58.2372</td>\n      <td>Aires del Campo Cabañas y Hotel</td>\n    </tr>\n    <tr>\n      <th>669</th>\n      <td>Cotonou</td>\n      <td>BJ</td>\n      <td>75.20</td>\n      <td>scattered clouds</td>\n      <td>6.3654</td>\n      <td>2.4183</td>\n      <td>Novotel Cotonou Orisha</td>\n    </tr>\n    <tr>\n      <th>670</th>\n      <td>Xuddur</td>\n      <td>SO</td>\n      <td>75.83</td>\n      <td>broken clouds</td>\n      <td>4.1213</td>\n      <td>43.8894</td>\n      <td>Banjanay Hotel</td>\n    </tr>\n    <tr>\n      <th>675</th>\n      <td>Wanaka</td>\n      <td>NZ</td>\n      <td>52.83</td>\n      <td>moderate rain</td>\n      <td>-44.7000</td>\n      <td>169.1500</td>\n      <td>Wanaka Homestead Lodge and Cottages</td>\n    </tr>\n  </tbody>\n</table>\n<p>353 rows × 7 columns</p>\n</div>"
     },
     "metadata": {},
     "execution_count": 140
    }
   ],
   "source": [
    "# 7. Drop the rows where there is no Hotel Name.\n",
    "is_nan = hotel_df.isnull().sum()\n",
    "is_nan\n",
    "new_hotel_df = hotel_df.loc[hotel_df[\"Hotel Name\"] != \"\"]\n",
    "new_hotel_df"
   ]
  },
  {
   "cell_type": "code",
   "execution_count": 141,
   "metadata": {},
   "outputs": [],
   "source": [
    "# 8a. Create the output File (CSV)\n",
    "output_data_file = \"WeatherPy_vacation.csv\"\n",
    "\n",
    "# 8b. Export the City_Data into a csv\n",
    "new_hotel_df.to_csv(output_data_file, index_label=\"City_ID\")"
   ]
  },
  {
   "cell_type": "code",
   "execution_count": 142,
   "metadata": {},
   "outputs": [],
   "source": [
    "# 9. Using the template add city name, the country code, the weather description and maximum temperature for the city.\n",
    "info_box_template = \"\"\"\n",
    "<dl>\n",
    "<dt>City</dt><dd>{City}</dd>\n",
    "<dt>Country</dt><dd>{Country}</dd>\n",
    "<dt>Weather Description</dt><dd>{Current Description} and {Max Temp}</dd>\n",
    "</dl>\n",
    "\"\"\"\n",
    "\n",
    "# 10a. Get the data from each row and add it to the formatting template and store the data in a list.\n",
    "hotel_info = [info_box_template.format(**row) for index, row in new_hotel_df.iterrows()]\n",
    "\n",
    "# 10b. Get the latitude and longitude from each row and store in a new DataFrame.\n",
    "locations = new_hotel_df[[\"Lat\", \"Lng\"]]"
   ]
  },
  {
   "cell_type": "code",
   "execution_count": 144,
   "metadata": {},
   "outputs": [
    {
     "output_type": "display_data",
     "data": {
      "text/plain": "Figure(layout=FigureLayout(height='420px'))",
      "application/vnd.jupyter.widget-view+json": {
       "version_major": 2,
       "version_minor": 0,
       "model_id": "06042be99641481190c8779452b14e81"
      }
     },
     "metadata": {}
    }
   ],
   "source": [
    "# 11a. Add a marker layer for each city to the map. \n",
    "max_temp = new_hotel_df[\"Max Temp\"]\n",
    "fig = gmaps.figure(center=(30.0, 31.0), zoom_level=1.5)\n",
    "heat_layer = gmaps.heatmap_layer(locations, weights=max_temp,dissipating=False,\n",
    "             max_intensity=300, point_radius=4)\n",
    "marker_layer = gmaps.marker_layer(locations, info_box_content=hotel_info)\n",
    "fig.add_layer(heat_layer)\n",
    "fig.add_layer(marker_layer)\n",
    "\n",
    "# 11b. Display the figure\n",
    "fig\n"
   ]
  },
  {
   "cell_type": "code",
   "execution_count": null,
   "metadata": {},
   "outputs": [],
   "source": []
  },
  {
   "cell_type": "code",
   "execution_count": null,
   "metadata": {},
   "outputs": [],
   "source": []
  }
 ],
 "metadata": {
  "kernelspec": {
   "name": "python3",
   "display_name": "Python 3.8.5 64-bit ('base': conda)",
   "metadata": {
    "interpreter": {
     "hash": "86772cf87fe16d819f793785e52a177e46073571a3f7cde0fd59bbdcc1396115"
    }
   }
  },
  "language_info": {
   "codemirror_mode": {
    "name": "ipython",
    "version": 3
   },
   "file_extension": ".py",
   "mimetype": "text/x-python",
   "name": "python",
   "nbconvert_exporter": "python",
   "pygments_lexer": "ipython3",
   "version": "3.8.5"
  },
  "latex_envs": {
   "LaTeX_envs_menu_present": true,
   "autoclose": false,
   "autocomplete": true,
   "bibliofile": "biblio.bib",
   "cite_by": "apalike",
   "current_citInitial": 1,
   "eqLabelWithNumbers": true,
   "eqNumInitial": 1,
   "hotkeys": {
    "equation": "Ctrl-E",
    "itemize": "Ctrl-I"
   },
   "labels_anchors": false,
   "latex_user_defs": false,
   "report_style_numbering": false,
   "user_envs_cfg": false
  }
 },
 "nbformat": 4,
 "nbformat_minor": 2
}